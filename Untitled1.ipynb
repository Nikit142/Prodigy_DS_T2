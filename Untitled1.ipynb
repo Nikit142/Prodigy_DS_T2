{
 "cells": [
  {
   "cell_type": "code",
   "execution_count": null,
   "id": "e39362b5-4598-4598-8729-fd1f41e77ad6",
   "metadata": {},
   "outputs": [],
   "source": []
  }
 ],
 "metadata": {
  "kernelspec": {
   "display_name": "",
   "name": ""
  },
  "language_info": {
   "name": ""
  }
 },
 "nbformat": 4,
 "nbformat_minor": 5
}
